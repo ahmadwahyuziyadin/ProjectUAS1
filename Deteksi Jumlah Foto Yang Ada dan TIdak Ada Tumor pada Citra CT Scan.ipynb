{
 "cells": [
  {
   "cell_type": "code",
   "execution_count": 3,
   "id": "5947ae36",
   "metadata": {},
   "outputs": [
    {
     "name": "stdout",
     "output_type": "stream",
     "text": [
      "Jumlah Citra dengan Tumor: 100\n",
      "Jumlah Citra tanpa Tumor: 0\n"
     ]
    }
   ],
   "source": [
    "import cv2\n",
    "import numpy as np\n",
    "import glob\n",
    "\n",
    "# Load daftar file citra CT Scan\n",
    "image_files = glob.glob('C:/Users/User/PCD/UAS PCD/CT Scan Tumor/*.jpg')\n",
    "\n",
    "# Nilai threshold yang digunakan untuk deteksi tumor\n",
    "threshold_value = 1000\n",
    "\n",
    "# Variabel untuk menghitung jumlah citra dengan dan tanpa tumor\n",
    "count_with_tumor = 0\n",
    "count_without_tumor = 0\n",
    "\n",
    "for file in image_files:\n",
    "    # Load citra CT Scan\n",
    "    try:\n",
    "        image = cv2.imread(file, 0)\n",
    "        if image is None:\n",
    "            raise Exception(\"Failed to load image:\", file)\n",
    "    except Exception as e:\n",
    "        print(e)\n",
    "        continue\n",
    "\n",
    "    # Pra-pemrosesan\n",
    "    image_copy = image.copy()  # Salin citra untuk deteksi tumor\n",
    "\n",
    "    # Segmentasi\n",
    "    ret, binary_image = cv2.threshold(image, 0, 255, cv2.THRESH_BINARY + cv2.THRESH_OTSU)\n",
    "\n",
    "    # Ekstraksi fitur\n",
    "    contours, _ = cv2.findContours(binary_image, cv2.RETR_EXTERNAL, cv2.CHAIN_APPROX_SIMPLE)\n",
    "\n",
    "    # Deteksi tumor\n",
    "    tumor_detected = False\n",
    "    for contour in contours:\n",
    "        area = cv2.contourArea(contour)\n",
    "        if area > threshold_value:\n",
    "            tumor_detected = True\n",
    "            break\n",
    "\n",
    "    if tumor_detected:\n",
    "        count_with_tumor += 1\n",
    "    else:\n",
    "        count_without_tumor += 1\n",
    "\n",
    "# Tampilkan jumlah citra dengan dan tanpa tumor\n",
    "print(\"Jumlah Citra dengan Tumor:\", count_with_tumor)\n",
    "print(\"Jumlah Citra tanpa Tumor:\", count_without_tumor)\n"
   ]
  },
  {
   "cell_type": "code",
   "execution_count": null,
   "id": "7a6a8657",
   "metadata": {},
   "outputs": [],
   "source": []
  }
 ],
 "metadata": {
  "kernelspec": {
   "display_name": "Python 3 (ipykernel)",
   "language": "python",
   "name": "python3"
  },
  "language_info": {
   "codemirror_mode": {
    "name": "ipython",
    "version": 3
   },
   "file_extension": ".py",
   "mimetype": "text/x-python",
   "name": "python",
   "nbconvert_exporter": "python",
   "pygments_lexer": "ipython3",
   "version": "3.7.9"
  }
 },
 "nbformat": 4,
 "nbformat_minor": 5
}
